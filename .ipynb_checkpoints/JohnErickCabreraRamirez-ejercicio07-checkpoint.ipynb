{
 "cells": [
  {
   "cell_type": "code",
   "execution_count": 1,
   "metadata": {},
   "outputs": [],
   "source": [
    "import numpy as np\n",
    "import pandas as pd\n",
    "import matplotlib.pyplot as plt"
   ]
  },
  {
   "cell_type": "code",
   "execution_count": 18,
   "metadata": {},
   "outputs": [],
   "source": [
    "data = np.loadtxt(\"notas_andes.dat\", skiprows=1)\n",
    "Y = data[:,4]\n",
    "X = data[:,:4]\n"
   ]
  },
  {
   "cell_type": "code",
   "execution_count": 3,
   "metadata": {},
   "outputs": [],
   "source": [
    "#plt.figure(figsize=(8,8))\n",
    "#plt.plot(mu,y)\n",
    "#plt.scatter(mu,y)\n",
    "#plt.xlabel(\"mu\")\n",
    "#plt.suptitle(valor, fontsize=20)"
   ]
  },
  {
   "cell_type": "code",
   "execution_count": 4,
   "metadata": {},
   "outputs": [],
   "source": [
    "sigma=0.1"
   ]
  },
  {
   "cell_type": "code",
   "execution_count": 36,
   "metadata": {},
   "outputs": [
    {
     "data": {
      "text/plain": [
       "array([4.6, 4.8, 3.8, 4.2])"
      ]
     },
     "execution_count": 36,
     "metadata": {},
     "output_type": "execute_result"
    }
   ],
   "source": [
    "w=2*np.ones(len(X))/sigma**2"
   ]
  },
  {
   "cell_type": "code",
   "execution_count": 60,
   "metadata": {},
   "outputs": [
    {
     "name": "stdout",
     "output_type": "stream",
     "text": [
      "[4.2  4.   4.   5.   3.3  3.5  3.   3.5  3.6  3.   3.25 3.5  3.87 3.\n",
      " 4.   4.   3.8  3.5  4.   3.   4.3  3.7  4.4  3.9  4.3  4.   4.5  5.\n",
      " 4.   4.4  4.3  3.   4.5  4.4  4.   4.6  5.   4.24 4.5  3.5  4.5  4.2\n",
      " 4.5  4.2  3.5  3.7  4.2  4.2  4.   3.6  3.4  5.   4.1  3.55 3.2  3.5\n",
      " 4.44 5.   4.   3.5  4.1  4.6  3.47 3.8  4.5  3.   4.5  4.6  3.5 ]\n"
     ]
    }
   ],
   "source": [
    "beta=np.ones(len(X[0]+1))\n",
    "c=beta[0]\n",
    "def y_test(x,beta):\n",
    "    sum=0\n",
    "    for j in range(len(beta)):\n",
    "        sum=beta[j]*x[:,j]\n",
    "    return sum\n",
    "print(y_test(X,beta))"
   ]
  },
  {
   "cell_type": "code",
   "execution_count": 61,
   "metadata": {},
   "outputs": [
    {
     "data": {
      "text/plain": [
       "array([-2501.1005772, -2536.6105772, -2068.0905772, -5612.5405772,\n",
       "       -2786.2105772, -2537.6905772, -3557.4105772, -2536.6105772,\n",
       "       -2536.6105772, -2257.3405772, -2282.8505772, -5130.2105772,\n",
       "       -2036.9405772, -2282.8505772, -3430.4905772, -2040.4105772,\n",
       "       -3193.2105772, -2045.2605772, -2040.4105772, -3827.8105772,\n",
       "       -2500.0605772, -2464.8905772, -2575.6605772, -2078.4605772,\n",
       "       -2151.0105772, -2615.0105772, -2501.1005772, -6904.4605772,\n",
       "       -2036.8605772, -2786.2105772, -2169.1005772, -2036.9405772,\n",
       "       -2786.2105772, -2697.8505772, -2283.6105772, -3138.9405772,\n",
       "       -5814.0605772, -3370.8605772, -2615.0105772, -2067.8105772,\n",
       "       -2233.2105772, -2696.6105772, -2431.1005772, -2151.0105772,\n",
       "       -3137.3405772, -2040.4105772, -2613.8505772, -2078.1405772,\n",
       "       -2133.2605772, -2058.8605772, -2740.0605772, -2832.4605772,\n",
       "       -2537.6905772, -2133.7405772, -2117.4105772, -2117.4105772,\n",
       "       -2117.8505772, -3310.8105772, -2040.4105772, -5609.6605772,\n",
       "       -2051.4905772, -2786.2105772, -2189.0905772, -2117.8505772,\n",
       "       -2258.0605772, -2338.8505772, -2034.8105772, -2189.0905772,\n",
       "       -3557.4105772])"
      ]
     },
     "execution_count": 61,
     "metadata": {},
     "output_type": "execute_result"
    }
   ],
   "source": [
    "def loglikelihood(x, y, beta,sigma):\n",
    "    y_model = y_test(x, beta)\n",
    "    sum=1/(np.power(2*np.pi,0.5)*sigma)\n",
    "    for i in range(len(x)):\n",
    "        sum+=-(y_model[i]-y)**2/sigma**2\n",
    "    return sum\n",
    "loglikelihood(X, Y, beta,sigma)"
   ]
  },
  {
   "cell_type": "code",
   "execution_count": 51,
   "metadata": {},
   "outputs": [
    {
     "ename": "SyntaxError",
     "evalue": "non-default argument follows default argument (<ipython-input-51-00059ab3213f>, line 1)",
     "output_type": "error",
     "traceback": [
      "\u001b[0;36m  File \u001b[0;32m\"<ipython-input-51-00059ab3213f>\"\u001b[0;36m, line \u001b[0;32m1\u001b[0m\n\u001b[0;31m    def metropolis(x_obs, y_obs, N =69,sigma):\u001b[0m\n\u001b[0m                  ^\u001b[0m\n\u001b[0;31mSyntaxError\u001b[0m\u001b[0;31m:\u001b[0m non-default argument follows default argument\n"
     ]
    }
   ],
   "source": [
    "def metropolis(x_obs, y_obs, N,sigma):\n",
    "    l_param = [np.array([1/8000.0, 10.0])]\n",
    "    sigma_param = np.array([1E-4, 0.5])\n",
    "    n_param = len(sigma_param)\n",
    "    logposterior = [0]\n",
    "    for i in range(1,N):\n",
    "        propuesta  = l_param[i-1] + np.random.normal(size=n_param)*sigma_param\n",
    "        #print(propuesta)\n",
    "        logposterior_viejo = loglikelihood(x_obs, y_obs, l_param[i-1]) + logprior(l_param[i-1])\n",
    "        logposterior_nuevo = loglikelihood(x_obs, y_obs, propuesta) + logprior(propuesta)\n",
    "\n",
    "        r = min(1,np.exp(logposterior_nuevo-logposterior_viejo))\n",
    "        alpha = np.random.random()\n",
    "        if(alpha<r):\n",
    "            l_param.append(propuesta)\n",
    "            logposterior.append(logposterior_nuevo)\n",
    "        else:\n",
    "            l_param.append(l_param[i-1])\n",
    "            logposterior.append(logposterior_viejo)\n",
    "    \n",
    "    l_param = np.array(l_param)\n",
    "    l_param = l_param[N//10:,:] # descartamos el primer 10% de la cadena\n",
    "    logposterior = np.array(logposterior)\n",
    "    logposterior = logposterior[N//10:]\n",
    "    return l_param, logposterior"
   ]
  },
  {
   "cell_type": "code",
   "execution_count": 63,
   "metadata": {},
   "outputs": [
    {
     "ename": "TypeError",
     "evalue": "metropolis() takes from 2 to 3 positional arguments but 4 were given",
     "output_type": "error",
     "traceback": [
      "\u001b[0;31m---------------------------------------------------------------------------\u001b[0m",
      "\u001b[0;31mTypeError\u001b[0m                                 Traceback (most recent call last)",
      "\u001b[0;32m<ipython-input-63-5aad1350a848>\u001b[0m in \u001b[0;36m<module>\u001b[0;34m\u001b[0m\n\u001b[0;32m----> 1\u001b[0;31m \u001b[0mmetropolis\u001b[0m\u001b[0;34m(\u001b[0m\u001b[0mX\u001b[0m\u001b[0;34m[\u001b[0m\u001b[0;36m0\u001b[0m\u001b[0;34m]\u001b[0m\u001b[0;34m,\u001b[0m\u001b[0mY\u001b[0m\u001b[0;34m,\u001b[0m\u001b[0;36m69\u001b[0m\u001b[0;34m,\u001b[0m\u001b[0msigma\u001b[0m\u001b[0;34m)\u001b[0m\u001b[0;34m\u001b[0m\u001b[0;34m\u001b[0m\u001b[0m\n\u001b[0m",
      "\u001b[0;31mTypeError\u001b[0m: metropolis() takes from 2 to 3 positional arguments but 4 were given"
     ]
    }
   ],
   "source": [
    "metropolis(X[0],Y,69,sigma)"
   ]
  },
  {
   "cell_type": "code",
   "execution_count": 38,
   "metadata": {},
   "outputs": [],
   "source": []
  },
  {
   "cell_type": "code",
   "execution_count": 34,
   "metadata": {},
   "outputs": [],
   "source": [
    "def prob(m,c,sigma,x,y):\n",
    "    sum=0\n",
    "    for i in range(len(w)):\n",
    "        sum+=(m[0]*x[i,0]+m[1]*x[i,1]+m[2]*x[i,2]+m[3]*x[i,3]+c-y[i])**2\n",
    "    return sigma**-len(x)*np.exp(-sum/(2*sigma**2))"
   ]
  },
  {
   "cell_type": "markdown",
   "metadata": {},
   "source": [
    "# Valores óptimos"
   ]
  },
  {
   "cell_type": "code",
   "execution_count": 32,
   "metadata": {},
   "outputs": [],
   "source": [
    "def mo(w,x,y):\n",
    "    return (beta(w,x)*p(w,x,y)-gama(w,x)*q(w,y))/(alfa(w,x)*beta(w,x)-gama(w,x)**2)\n",
    "def co(w,x,y):\n",
    "    return (alfa(w,x)*q(w,y)-gama(w,x)*p(w,x,y))/(alfa(w,x)*beta(w,x)-gama(w,x)**2)"
   ]
  },
  {
   "cell_type": "code",
   "execution_count": 31,
   "metadata": {},
   "outputs": [],
   "source": [
    "def alfa(w,x):\n",
    "    sum=0\n",
    "    for i in range(len(w)):\n",
    "        sum+=w[i]*x[i]**2\n",
    "    return sum\n",
    "def beta(w,x):\n",
    "    sum=0\n",
    "    for i in range(len(w)):\n",
    "        sum+=w[i]\n",
    "    return sum\n",
    "def gama(w,x):\n",
    "    sum=0\n",
    "    for i in range(len(w)):\n",
    "        sum+=w[i]*x[i]\n",
    "    return sum\n",
    "def p(w,x,y):\n",
    "    sum=0\n",
    "    for i in range(len(w)):\n",
    "        sum+=w[i]*x[i]*y[i]\n",
    "    return sum\n",
    "def q(w,y):\n",
    "    sum=0\n",
    "    for i in range(len(w)):\n",
    "        sum+=w[i]*y[i]\n",
    "    return sum"
   ]
  },
  {
   "cell_type": "code",
   "execution_count": 33,
   "metadata": {},
   "outputs": [
    {
     "data": {
      "text/plain": [
       "0.3598032471229786"
      ]
     },
     "execution_count": 33,
     "metadata": {},
     "output_type": "execute_result"
    }
   ],
   "source": [
    "mo(w,X[:,0],Y)"
   ]
  },
  {
   "cell_type": "code",
   "execution_count": null,
   "metadata": {},
   "outputs": [],
   "source": []
  }
 ],
 "metadata": {
  "kernelspec": {
   "display_name": "Python 3",
   "language": "python",
   "name": "python3"
  },
  "language_info": {
   "codemirror_mode": {
    "name": "ipython",
    "version": 3
   },
   "file_extension": ".py",
   "mimetype": "text/x-python",
   "name": "python",
   "nbconvert_exporter": "python",
   "pygments_lexer": "ipython3",
   "version": "3.7.4"
  }
 },
 "nbformat": 4,
 "nbformat_minor": 2
}
