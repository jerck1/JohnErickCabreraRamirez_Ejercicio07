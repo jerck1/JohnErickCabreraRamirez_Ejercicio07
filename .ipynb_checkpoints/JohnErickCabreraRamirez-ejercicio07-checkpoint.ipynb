{
 "cells": [
  {
   "cell_type": "code",
   "execution_count": 1,
   "metadata": {},
   "outputs": [],
   "source": [
    "import numpy as np\n",
    "import pandas as pd\n",
    "import matplotlib.pyplot as plt"
   ]
  },
  {
   "cell_type": "code",
   "execution_count": 18,
   "metadata": {},
   "outputs": [],
   "source": [
    "data = np.loadtxt(\"notas_andes.dat\", skiprows=1)\n",
    "Y = data[:,4]\n",
    "X = data[:,:4]\n"
   ]
  },
  {
   "cell_type": "code",
   "execution_count": 3,
   "metadata": {},
   "outputs": [],
   "source": [
    "#plt.figure(figsize=(8,8))\n",
    "#plt.plot(mu,y)\n",
    "#plt.scatter(mu,y)\n",
    "#plt.xlabel(\"mu\")\n",
    "#plt.suptitle(valor, fontsize=20)"
   ]
  },
  {
   "cell_type": "code",
   "execution_count": 4,
   "metadata": {},
   "outputs": [],
   "source": [
    "sigma=0.1"
   ]
  },
  {
   "cell_type": "code",
   "execution_count": 12,
   "metadata": {},
   "outputs": [],
   "source": [
    "w=2*np.ones(len(X))/sigma**2"
   ]
  },
  {
   "cell_type": "code",
   "execution_count": 34,
   "metadata": {},
   "outputs": [],
   "source": [
    "def prob(m,c,sigma,x,y):\n",
    "    sum=0\n",
    "    for i in range(len(w)):\n",
    "        sum+=(m[0]*x[i,0]+m[1]*x[i,1]+m[2]*x[i,2]+m[3]*x[i,3]+c-y[i])**2\n",
    "    return sigma**-len(x)*np.exp(-sum/(2*sigma**2))"
   ]
  },
  {
   "cell_type": "markdown",
   "metadata": {},
   "source": [
    "# Valores óptimos"
   ]
  },
  {
   "cell_type": "code",
   "execution_count": 32,
   "metadata": {},
   "outputs": [],
   "source": [
    "def mo(w,x,y):\n",
    "    return (beta(w,x)*p(w,x,y)-gama(w,x)*q(w,y))/(alfa(w,x)*beta(w,x)-gama(w,x)**2)\n",
    "def co(w,x,y):\n",
    "    return (alfa(w,x)*q(w,y)-gama(w,x)*p(w,x,y))/(alfa(w,x)*beta(w,x)-gama(w,x)**2)"
   ]
  },
  {
   "cell_type": "code",
   "execution_count": 31,
   "metadata": {},
   "outputs": [],
   "source": [
    "def alfa(w,x):\n",
    "    sum=0\n",
    "    for i in range(len(w)):\n",
    "        sum+=w[i]*x[i]**2\n",
    "    return sum\n",
    "def beta(w,x):\n",
    "    sum=0\n",
    "    for i in range(len(w)):\n",
    "        sum+=w[i]\n",
    "    return sum\n",
    "def gama(w,x):\n",
    "    sum=0\n",
    "    for i in range(len(w)):\n",
    "        sum+=w[i]*x[i]\n",
    "    return sum\n",
    "def p(w,x,y):\n",
    "    sum=0\n",
    "    for i in range(len(w)):\n",
    "        sum+=w[i]*x[i]*y[i]\n",
    "    return sum\n",
    "def q(w,y):\n",
    "    sum=0\n",
    "    for i in range(len(w)):\n",
    "        sum+=w[i]*y[i]\n",
    "    return sum"
   ]
  },
  {
   "cell_type": "code",
   "execution_count": 33,
   "metadata": {},
   "outputs": [
    {
     "data": {
      "text/plain": [
       "0.3598032471229786"
      ]
     },
     "execution_count": 33,
     "metadata": {},
     "output_type": "execute_result"
    }
   ],
   "source": [
    "mo(w,X[:,0],Y)"
   ]
  },
  {
   "cell_type": "code",
   "execution_count": null,
   "metadata": {},
   "outputs": [],
   "source": []
  }
 ],
 "metadata": {
  "kernelspec": {
   "display_name": "Python 3",
   "language": "python",
   "name": "python3"
  },
  "language_info": {
   "codemirror_mode": {
    "name": "ipython",
    "version": 3
   },
   "file_extension": ".py",
   "mimetype": "text/x-python",
   "name": "python",
   "nbconvert_exporter": "python",
   "pygments_lexer": "ipython3",
   "version": "3.7.4"
  }
 },
 "nbformat": 4,
 "nbformat_minor": 2
}
