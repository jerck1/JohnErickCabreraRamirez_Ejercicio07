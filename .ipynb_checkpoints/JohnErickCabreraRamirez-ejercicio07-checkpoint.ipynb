{
 "cells": [
  {
   "cell_type": "code",
   "execution_count": 1,
   "metadata": {},
   "outputs": [],
   "source": [
    "import numpy as np\n",
    "import pandas as pd\n",
    "import matplotlib.pyplot as plt"
   ]
  },
  {
   "cell_type": "code",
   "execution_count": 18,
   "metadata": {},
   "outputs": [],
   "source": [
    "data = np.loadtxt(\"notas_andes.dat\", skiprows=1)\n",
    "Y = data[:,4]\n",
    "X = data[:,:4]\n"
   ]
  },
  {
   "cell_type": "code",
   "execution_count": 3,
   "metadata": {},
   "outputs": [],
   "source": [
    "#plt.figure(figsize=(8,8))\n",
    "#plt.plot(mu,y)\n",
    "#plt.scatter(mu,y)\n",
    "#plt.xlabel(\"mu\")\n",
    "#plt.suptitle(valor, fontsize=20)"
   ]
  },
  {
   "cell_type": "code",
   "execution_count": 4,
   "metadata": {},
   "outputs": [],
   "source": [
    "sigma=0.1"
   ]
  },
  {
   "cell_type": "code",
   "execution_count": 36,
   "metadata": {},
   "outputs": [
    {
     "data": {
      "text/plain": [
       "array([4.6, 4.8, 3.8, 4.2])"
      ]
     },
     "execution_count": 36,
     "metadata": {},
     "output_type": "execute_result"
    }
   ],
   "source": [
    "w=2*np.ones(len(X))/sigma**2"
   ]
  },
  {
   "cell_type": "code",
   "execution_count": 44,
   "metadata": {},
   "outputs": [],
   "source": [
    "beta=np.ones(len(X[0]+1))\n",
    "c=beta[0]\n",
    "i"
   ]
  },
  {
   "cell_type": "code",
   "execution_count": 48,
   "metadata": {},
   "outputs": [],
   "source": [
    "def loglikelihood(x, y, beta,sigma):\n",
    "    y_model = y_test(x, beta)\n",
    "    sum=1/(np.power(2*np.pi,0.5)*sigma)\n",
    "    for i in range(len(x)):\n",
    "        sum+=(y_model[i]-y)**2\n",
    "    return sum"
   ]
  },
  {
   "cell_type": "code",
   "execution_count": 40,
   "metadata": {},
   "outputs": [],
   "source": [
    "def metropolis(x_obs, y_obs, N = len(X)):\n",
    "    l_param = [np.array([1/8000.0, 10.0])]\n",
    "    sigma_param = np.array([1E-4, 0.5])\n",
    "    n_param = len(sigma_param)\n",
    "    logposterior = [0]\n",
    "    for i in range(1,N):\n",
    "        propuesta  = l_param[i-1] + np.random.normal(size=n_param)*sigma_param\n",
    "        #print(propuesta)\n",
    "        logposterior_viejo = loglikelihood(x_obs, y_obs, l_param[i-1]) + logprior(l_param[i-1])\n",
    "        logposterior_nuevo = loglikelihood(x_obs, y_obs, propuesta) + logprior(propuesta)\n",
    "\n",
    "        r = min(1,np.exp(logposterior_nuevo-logposterior_viejo))\n",
    "        alpha = np.random.random()\n",
    "        if(alpha<r):\n",
    "            l_param.append(propuesta)\n",
    "            logposterior.append(logposterior_nuevo)\n",
    "        else:\n",
    "            l_param.append(l_param[i-1])\n",
    "            logposterior.append(logposterior_viejo)\n",
    "    \n",
    "    l_param = np.array(l_param)\n",
    "    l_param = l_param[N//10:,:] # descartamos el primer 10% de la cadena\n",
    "    logposterior = np.array(logposterior)\n",
    "    logposterior = logposterior[N//10:]\n",
    "    return l_param, logposterior"
   ]
  },
  {
   "cell_type": "code",
   "execution_count": 41,
   "metadata": {},
   "outputs": [
    {
     "ename": "NameError",
     "evalue": "name 'loglikelihood' is not defined",
     "output_type": "error",
     "traceback": [
      "\u001b[0;31m---------------------------------------------------------------------------\u001b[0m",
      "\u001b[0;31mNameError\u001b[0m                                 Traceback (most recent call last)",
      "\u001b[0;32m<ipython-input-41-af0d974356f2>\u001b[0m in \u001b[0;36m<module>\u001b[0;34m\u001b[0m\n\u001b[0;32m----> 1\u001b[0;31m \u001b[0mmetropolis\u001b[0m\u001b[0;34m(\u001b[0m\u001b[0mX\u001b[0m\u001b[0;34m[\u001b[0m\u001b[0;36m0\u001b[0m\u001b[0;34m]\u001b[0m\u001b[0;34m,\u001b[0m\u001b[0mY\u001b[0m\u001b[0;34m)\u001b[0m\u001b[0;34m\u001b[0m\u001b[0;34m\u001b[0m\u001b[0m\n\u001b[0m",
      "\u001b[0;32m<ipython-input-40-c1318148d0a7>\u001b[0m in \u001b[0;36mmetropolis\u001b[0;34m(x_obs, y_obs, N)\u001b[0m\n\u001b[1;32m      7\u001b[0m         \u001b[0mpropuesta\u001b[0m  \u001b[0;34m=\u001b[0m \u001b[0ml_param\u001b[0m\u001b[0;34m[\u001b[0m\u001b[0mi\u001b[0m\u001b[0;34m-\u001b[0m\u001b[0;36m1\u001b[0m\u001b[0;34m]\u001b[0m \u001b[0;34m+\u001b[0m \u001b[0mnp\u001b[0m\u001b[0;34m.\u001b[0m\u001b[0mrandom\u001b[0m\u001b[0;34m.\u001b[0m\u001b[0mnormal\u001b[0m\u001b[0;34m(\u001b[0m\u001b[0msize\u001b[0m\u001b[0;34m=\u001b[0m\u001b[0mn_param\u001b[0m\u001b[0;34m)\u001b[0m\u001b[0;34m*\u001b[0m\u001b[0msigma_param\u001b[0m\u001b[0;34m\u001b[0m\u001b[0;34m\u001b[0m\u001b[0m\n\u001b[1;32m      8\u001b[0m         \u001b[0;31m#print(propuesta)\u001b[0m\u001b[0;34m\u001b[0m\u001b[0;34m\u001b[0m\u001b[0;34m\u001b[0m\u001b[0m\n\u001b[0;32m----> 9\u001b[0;31m         \u001b[0mlogposterior_viejo\u001b[0m \u001b[0;34m=\u001b[0m \u001b[0mloglikelihood\u001b[0m\u001b[0;34m(\u001b[0m\u001b[0mx_obs\u001b[0m\u001b[0;34m,\u001b[0m \u001b[0my_obs\u001b[0m\u001b[0;34m,\u001b[0m \u001b[0ml_param\u001b[0m\u001b[0;34m[\u001b[0m\u001b[0mi\u001b[0m\u001b[0;34m-\u001b[0m\u001b[0;36m1\u001b[0m\u001b[0;34m]\u001b[0m\u001b[0;34m)\u001b[0m \u001b[0;34m+\u001b[0m \u001b[0mlogprior\u001b[0m\u001b[0;34m(\u001b[0m\u001b[0ml_param\u001b[0m\u001b[0;34m[\u001b[0m\u001b[0mi\u001b[0m\u001b[0;34m-\u001b[0m\u001b[0;36m1\u001b[0m\u001b[0;34m]\u001b[0m\u001b[0;34m)\u001b[0m\u001b[0;34m\u001b[0m\u001b[0;34m\u001b[0m\u001b[0m\n\u001b[0m\u001b[1;32m     10\u001b[0m         \u001b[0mlogposterior_nuevo\u001b[0m \u001b[0;34m=\u001b[0m \u001b[0mloglikelihood\u001b[0m\u001b[0;34m(\u001b[0m\u001b[0mx_obs\u001b[0m\u001b[0;34m,\u001b[0m \u001b[0my_obs\u001b[0m\u001b[0;34m,\u001b[0m \u001b[0mpropuesta\u001b[0m\u001b[0;34m)\u001b[0m \u001b[0;34m+\u001b[0m \u001b[0mlogprior\u001b[0m\u001b[0;34m(\u001b[0m\u001b[0mpropuesta\u001b[0m\u001b[0;34m)\u001b[0m\u001b[0;34m\u001b[0m\u001b[0;34m\u001b[0m\u001b[0m\n\u001b[1;32m     11\u001b[0m \u001b[0;34m\u001b[0m\u001b[0m\n",
      "\u001b[0;31mNameError\u001b[0m: name 'loglikelihood' is not defined"
     ]
    }
   ],
   "source": [
    "metropolis(X[0],Y)"
   ]
  },
  {
   "cell_type": "code",
   "execution_count": 38,
   "metadata": {},
   "outputs": [],
   "source": []
  },
  {
   "cell_type": "code",
   "execution_count": 34,
   "metadata": {},
   "outputs": [],
   "source": [
    "def prob(m,c,sigma,x,y):\n",
    "    sum=0\n",
    "    for i in range(len(w)):\n",
    "        sum+=(m[0]*x[i,0]+m[1]*x[i,1]+m[2]*x[i,2]+m[3]*x[i,3]+c-y[i])**2\n",
    "    return sigma**-len(x)*np.exp(-sum/(2*sigma**2))"
   ]
  },
  {
   "cell_type": "markdown",
   "metadata": {},
   "source": [
    "# Valores óptimos"
   ]
  },
  {
   "cell_type": "code",
   "execution_count": 32,
   "metadata": {},
   "outputs": [],
   "source": [
    "def mo(w,x,y):\n",
    "    return (beta(w,x)*p(w,x,y)-gama(w,x)*q(w,y))/(alfa(w,x)*beta(w,x)-gama(w,x)**2)\n",
    "def co(w,x,y):\n",
    "    return (alfa(w,x)*q(w,y)-gama(w,x)*p(w,x,y))/(alfa(w,x)*beta(w,x)-gama(w,x)**2)"
   ]
  },
  {
   "cell_type": "code",
   "execution_count": 31,
   "metadata": {},
   "outputs": [],
   "source": [
    "def alfa(w,x):\n",
    "    sum=0\n",
    "    for i in range(len(w)):\n",
    "        sum+=w[i]*x[i]**2\n",
    "    return sum\n",
    "def beta(w,x):\n",
    "    sum=0\n",
    "    for i in range(len(w)):\n",
    "        sum+=w[i]\n",
    "    return sum\n",
    "def gama(w,x):\n",
    "    sum=0\n",
    "    for i in range(len(w)):\n",
    "        sum+=w[i]*x[i]\n",
    "    return sum\n",
    "def p(w,x,y):\n",
    "    sum=0\n",
    "    for i in range(len(w)):\n",
    "        sum+=w[i]*x[i]*y[i]\n",
    "    return sum\n",
    "def q(w,y):\n",
    "    sum=0\n",
    "    for i in range(len(w)):\n",
    "        sum+=w[i]*y[i]\n",
    "    return sum"
   ]
  },
  {
   "cell_type": "code",
   "execution_count": 33,
   "metadata": {},
   "outputs": [
    {
     "data": {
      "text/plain": [
       "0.3598032471229786"
      ]
     },
     "execution_count": 33,
     "metadata": {},
     "output_type": "execute_result"
    }
   ],
   "source": [
    "mo(w,X[:,0],Y)"
   ]
  },
  {
   "cell_type": "code",
   "execution_count": null,
   "metadata": {},
   "outputs": [],
   "source": []
  }
 ],
 "metadata": {
  "kernelspec": {
   "display_name": "Python 3",
   "language": "python",
   "name": "python3"
  },
  "language_info": {
   "codemirror_mode": {
    "name": "ipython",
    "version": 3
   },
   "file_extension": ".py",
   "mimetype": "text/x-python",
   "name": "python",
   "nbconvert_exporter": "python",
   "pygments_lexer": "ipython3",
   "version": "3.7.4"
  }
 },
 "nbformat": 4,
 "nbformat_minor": 2
}
